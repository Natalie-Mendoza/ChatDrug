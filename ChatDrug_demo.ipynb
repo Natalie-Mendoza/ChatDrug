{
 "cells": [
  {
   "cell_type": "markdown",
   "metadata": {},
   "source": [
    "# ChatDrug Usage Guide\n",
    "This is a guide for ChatDrug usage."
   ]
  },
  {
   "cell_type": "markdown",
   "metadata": {},
   "source": [
    "## Import Packages"
   ]
  },
  {
   "cell_type": "code",
   "execution_count": 1,
   "metadata": {},
   "outputs": [],
   "source": [
    "%%capture\n",
    "import sys\n",
    "from ChatDrug.task_and_evaluation.Conversational_LLMs_utils import complete\n",
    "from utils import (\n",
    "    construct_PDDS_prompt, load_retrieval_DB, retrieve_and_feedback, load_thredhold\n",
    ")\n",
    "from ChatDrug.task_and_evaluation import get_task_specification_dict, evaluate, parse"
   ]
  },
  {
   "cell_type": "markdown",
   "metadata": {},
   "source": [
    "## Conversation Function"
   ]
  },
  {
   "cell_type": "code",
   "execution_count": 2,
   "metadata": {},
   "outputs": [],
   "source": [
    "def demo_conversation(test_drug, task, C, constraint, retrieval_DB, threshold_dict, messages):\n",
    "    for round_index in range(C+1):\n",
    "        generated_text = complete(messages, 'chatgpt')\n",
    "        messages.append({\"role\": \"assistant\", \"content\": generated_text})\n",
    "        \n",
    "        print(\">>Start Conversation \" + str(round_index+1))\n",
    "        print(\"User: \" + messages[2*round_index+1][\"content\"])\n",
    "        print(\"ChatGPT: \" + generated_text)\n",
    "\n",
    "        if round_index < 1:\n",
    "            closest_drug = None\n",
    "        generated_drug_list = parse(task, test_drug, generated_text, closest_drug)\n",
    "\n",
    "        # Check Parsing Results\n",
    "        if generated_drug_list == None:\n",
    "            print(\">>Invalid Drug Generation\")\n",
    "            break\n",
    "        elif len(generated_drug_list) == 0:\n",
    "            print(\">>Drug Generation Error\")\n",
    "            break\n",
    "        else:\n",
    "            generated_drug = generated_drug_list[0]\n",
    "            print(\"Generated Result: \"+str(generated_drug))\n",
    "        \n",
    "        # Check Evaluation Results\n",
    "        answer = evaluate(test_drug, generated_drug, task, constraint, threshold_dict)\n",
    "\n",
    "        if answer == -1:\n",
    "            print(\">>Invalid Drug Generation\")\n",
    "            break\n",
    "\n",
    "        print('Evaluation result: '+str(answer))\n",
    "\n",
    "        if answer:\n",
    "            print(\">>Drug Generation Correct\")\n",
    "            break\n",
    "        else:\n",
    "            if round_index < C:\n",
    "                print('>>Start Retrieval ' + str(round_index+1))\n",
    "                try:\n",
    "                    closest_drug = retrieve_and_feedback(task, retrieval_DB, test_drug, generated_drug, constraint, threshold_dict)\n",
    "                except:\n",
    "                    error = sys.exc_info()\n",
    "                    if error[0] == Exception:\n",
    "                        print('>>Cannot Find Retrieval Result')\n",
    "                        break\n",
    "                    else:\n",
    "                        print('>>Invalid Drug Generation')\n",
    "                        break\n",
    "\n",
    "                print(\"Retrieval Result: \" + closest_drug)\n",
    "\n",
    "                prompt_ReDF = f'Your provided sequence {generated_drug} is not correct. We find a sequence {closest_drug} which is correct and similar to the {test_drug_type} you provided. Can you give me a new {test_drug_type}?'\n",
    "                messages.append({\"role\": \"user\", \"content\": prompt_ReDF})\n",
    "            else:\n",
    "                print(\">>Drug Generation Error\")"
   ]
  },
  {
   "cell_type": "markdown",
   "metadata": {},
   "source": [
    "## Parameters\n",
    "The following blocks are ChatDrug parameters for molecule, peptide and protein respectively. Choose the drug type by running corresponding blocks. \n",
    "`test_drug`, `task` and `C` can also be changed by setting your own input durg, task id and conversation round number. Here are several examples:"
   ]
  },
  {
   "cell_type": "markdown",
   "metadata": {},
   "source": [
    "### Molecule"
   ]
  },
  {
   "cell_type": "code",
   "execution_count": 3,
   "metadata": {},
   "outputs": [],
   "source": [
    "test_drug_type = 'molecule'\n",
    "test_drug = 'O=C(NC[C@H]1CCCO1)c1ccccc1N1CCCC1=O'\n",
    "task = 203\n",
    "C = 2\n",
    "constraint = 'loose'"
   ]
  },
  {
   "cell_type": "markdown",
   "metadata": {},
   "source": [
    "### Peptide"
   ]
  },
  {
   "cell_type": "code",
   "execution_count": null,
   "metadata": {},
   "outputs": [],
   "source": [
    "test_drug_type = 'peptide'\n",
    "test_drug = 'AAASHFFNL'\n",
    "task = 301\n",
    "C = 2 \n",
    "constraint = None"
   ]
  },
  {
   "cell_type": "markdown",
   "metadata": {},
   "source": [
    "### Peotein"
   ]
  },
  {
   "cell_type": "code",
   "execution_count": null,
   "metadata": {},
   "outputs": [],
   "source": [
    "test_drug_type = 'protein'\n",
    "test_drug = 'GAPVPVDENDEGLQRALQFAMAEYNRASNDKYSSRVVRVISAKRQLVSGIKYILQVEIGRTTCPKSSGDLQSCEFHDEPEMAKYTTCTFVVYSIPWLNQIKLLESKCQ'\n",
    "task = 501\n",
    "C = 2\n",
    "constraint = None"
   ]
  },
  {
   "cell_type": "markdown",
   "metadata": {},
   "source": [
    "## Load Data"
   ]
  },
  {
   "cell_type": "code",
   "execution_count": 4,
   "metadata": {},
   "outputs": [],
   "source": [
    "task_specification_dict = get_task_specification_dict(task)\n",
    "input_drug_list, retrieval_DB = load_retrieval_DB(task, seed=0)\n",
    "threshold_dict = load_thredhold(test_drug_type)"
   ]
  },
  {
   "cell_type": "markdown",
   "metadata": {},
   "source": [
    "## Start ChatDrug"
   ]
  },
  {
   "cell_type": "code",
   "execution_count": 5,
   "metadata": {},
   "outputs": [
    {
     "name": "stdout",
     "output_type": "stream",
     "text": [
      ">>Start ChatDrug\n",
      "System: You are an expert in the field of molecular chemistry.\n",
      ">>Start Conversation 1\n",
      "User: Can you make molecule O=C(NC[C@H]1CCCO1)c1ccccc1N1CCCC1=O more soluble in water and more hydrogen bond donors? The output molecule should be similar to the input molecule. Give me five molecules in SMILES only and list them using bullet points. No explanation is needed.\n",
      "ChatGPT: Sure, here are five molecules in SMILES that are similar to the input molecule but have increased solubility in water and more hydrogen bond donors:\n",
      "\n",
      "- O=C(NC[C@H]1CCCO1)c1ccccc1N1CCOCC1=O\n",
      "- O=C(NC[C@H]1CCCO1)c1ccccc1N1CCNCC1=O\n",
      "- O=C(NC[C@H]1CCCO1)c1ccccc1N1CC(O)CC1=O\n",
      "- O=C(NC[C@H]1CCCO1)c1ccccc1N1CCC(O)C1=O\n",
      "- O=C(NC[C@H]1CCCO1)c1ccccc1N1CC(O)(C)C1=O\n",
      "Generated Result: O=C(NC[C@H]1CCCO1)c1ccccc1N1CCOCC1=O\n",
      "Evaluation result: False\n",
      ">>Start Retrieval 1\n",
      "Retrieval Result: O=C(NC[C@@H]1CCCO1)C(=O)Nc1cnc(-c2ccccc2)s1\n",
      ">>Start Conversation 2\n",
      "User: Your provided sequence O=C(NC[C@H]1CCCO1)c1ccccc1N1CCOCC1=O is not correct. We find a sequence O=C(NC[C@@H]1CCCO1)C(=O)Nc1cnc(-c2ccccc2)s1 which is correct and similar to the molecule you provided. Can you give me a new molecule?\n",
      "ChatGPT: I apologize for the mistake. Here is a new molecule that is similar to the input molecule but has increased solubility in water and more hydrogen bond donors:\n",
      "\n",
      "- O=C(NC[C@H]1CCCO1)c1ccccc1N1CC(O)C(O)C1=O\n",
      "Generated Result: O=C(NC[C@H]1CCCO1)c1ccccc1N1CC(O)C(O)C1=O\n",
      "Evaluation result: True\n",
      ">>Drug Generation Correct\n"
     ]
    }
   ],
   "source": [
    "print(\">>Start ChatDrug\")\n",
    "\n",
    "# ChatGPT message\n",
    "messages = [{\"role\": \"system\", \"content\": \"You are an expert in the field of molecular chemistry.\"}]\n",
    "print(\"System: You are an expert in the field of molecular chemistry.\")\n",
    "\n",
    "# PDDS\n",
    "PDDS_prompt = construct_PDDS_prompt(task_specification_dict, test_drug, test_drug_type, task)\n",
    "messages.append({\"role\": \"user\", \"content\": PDDS_prompt})\n",
    "\n",
    "# Conversation\n",
    "demo_conversation(test_drug, task, C, constraint, retrieval_DB, threshold_dict, messages)"
   ]
  }
 ],
 "metadata": {
  "kernelspec": {
   "display_name": "ChatDrug-public",
   "language": "python",
   "name": "python3"
  },
  "language_info": {
   "codemirror_mode": {
    "name": "ipython",
    "version": 3
   },
   "file_extension": ".py",
   "mimetype": "text/x-python",
   "name": "python",
   "nbconvert_exporter": "python",
   "pygments_lexer": "ipython3",
   "version": "3.7.12"
  },
  "orig_nbformat": 4
 },
 "nbformat": 4,
 "nbformat_minor": 2
}
