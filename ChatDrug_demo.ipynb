{
 "cells": [
  {
   "cell_type": "code",
   "execution_count": 1,
   "metadata": {},
   "outputs": [
    {
     "name": "stdout",
     "output_type": "stream",
     "text": [
      "Forcing tensorflow backend.\n"
     ]
    },
    {
     "name": "stderr",
     "output_type": "stream",
     "text": [
      "WARNING:tensorflow:From /home/jiongxiao/.conda/envs/ChatDrug-public/lib/python3.7/site-packages/tensorflow/python/compat/v2_compat.py:107: disable_resource_variables (from tensorflow.python.ops.variable_scope) is deprecated and will be removed in a future version.\n",
      "Instructions for updating:\n",
      "non-resource variables are not supported in the long term\n",
      "WARNING:tensorflow:From /home/jiongxiao/.conda/envs/ChatDrug-public/lib/python3.7/site-packages/mhcflurry/common.py:131: The name tf.keras.backend.set_session is deprecated. Please use tf.compat.v1.keras.backend.set_session instead.\n",
      "\n",
      "WARNING:tensorflow:From /home/jiongxiao/.conda/envs/ChatDrug-public/lib/python3.7/site-packages/keras/initializers/initializers_v1.py:297: calling RandomUniform.__init__ (from tensorflow.python.ops.init_ops) with dtype is deprecated and will be removed in a future version.\n",
      "Instructions for updating:\n",
      "Call initializer instance with the dtype argument instead of passing it to the constructor\n",
      "/home/jiongxiao/.conda/envs/ChatDrug-public/lib/python3.7/site-packages/tqdm/auto.py:21: TqdmWarning: IProgress not found. Please update jupyter and ipywidgets. See https://ipywidgets.readthedocs.io/en/stable/user_install.html\n",
      "  from .autonotebook import tqdm as notebook_tqdm\n",
      "Some weights of the model checkpoint at Rostlab/prot_bert_bfd were not used when initializing BertForTokenClassification2: ['cls.predictions.decoder.bias', 'cls.predictions.transform.LayerNorm.bias', 'cls.predictions.decoder.weight', 'cls.predictions.transform.dense.bias', 'cls.predictions.transform.LayerNorm.weight', 'bert.pooler.dense.weight', 'cls.predictions.bias', 'cls.predictions.transform.dense.weight', 'bert.pooler.dense.bias', 'cls.seq_relationship.bias', 'cls.seq_relationship.weight']\n",
      "- This IS expected if you are initializing BertForTokenClassification2 from the checkpoint of a model trained on another task or with another architecture (e.g. initializing a BertForSequenceClassification model from a BertForPreTraining model).\n",
      "- This IS NOT expected if you are initializing BertForTokenClassification2 from the checkpoint of a model that you expect to be exactly identical (initializing a BertForSequenceClassification model from a BertForSequenceClassification model).\n",
      "Some weights of BertForTokenClassification2 were not initialized from the model checkpoint at Rostlab/prot_bert_bfd and are newly initialized: ['classifier.weight', 'classifier.bias']\n",
      "You should probably TRAIN this model on a down-stream task to be able to use it for predictions and inference.\n"
     ]
    },
    {
     "name": "stdout",
     "output_type": "stream",
     "text": [
      "Loading protein model from data/protein_editing/pytorch_model_ss3.bin...\n",
      "missing keys: []\n",
      "unexpected keys: []\n"
     ]
    }
   ],
   "source": [
    "import json\n",
    "import argparse\n",
    "import sys\n",
    "from ChatDrug.task_and_evaluation.Conversational_LLMs_utils import complete\n",
    "from utils import (\n",
    "    construct_PDDS_prompt, load_retrieval_DB, fast_protein_dict,\n",
    "    retrieve_and_feedback, retrieve_and_feedback_fast_protein, load_thredhold\n",
    ")\n",
    "from ChatDrug.task_and_evaluation import task_to_drug, get_task_specification_dict, evaluate, parse\n",
    "from ChatDrug.task_and_evaluation.protein_editing import evaluate_fast_protein"
   ]
  },
  {
   "cell_type": "code",
   "execution_count": 2,
   "metadata": {},
   "outputs": [],
   "source": [
    "test_drug_type = 'molecule'    # choose from molecule/peptide/protein"
   ]
  },
  {
   "cell_type": "code",
   "execution_count": 3,
   "metadata": {},
   "outputs": [],
   "source": [
    "if test_drug_type == 'molecule':\n",
    "    test_drug = 'O=C(NC[C@H]1CCCO1)c1ccccc1N1CCCC1=O'\n",
    "    task = 203\n",
    "    seed = 0\n",
    "    C = 2\n",
    "    constraint = 'loose'\n",
    "elif test_drug_type == 'peptide':\n",
    "    test_drug = 'AAASHFFNL'\n",
    "    task = 301\n",
    "    seed = 0\n",
    "    C = 2 \n",
    "    constraint = None\n",
    "elif test_drug_type == 'protein':\n",
    "    test_drug = 'GAPVPVDENDEGLQRALQFAMAEYNRASNDKYSSRVVRVISAKRQLVSGIKYILQVEIGRTTCPKSSGDLQSCEFHDEPEMAKYTTCTFVVYSIPWLNQIKLLESKCQ'\n",
    "    task = 501\n",
    "    seed = 0\n",
    "    C = 2\n",
    "    constraint = None\n",
    "else:\n",
    "    raise NotImplementedError"
   ]
  },
  {
   "cell_type": "code",
   "execution_count": 4,
   "metadata": {},
   "outputs": [],
   "source": [
    "task_specification_dict = get_task_specification_dict(task)\n",
    "input_drug_list, retrieval_DB = load_retrieval_DB(task, seed)\n",
    "threshold_dict = load_thredhold(test_drug_type)"
   ]
  },
  {
   "cell_type": "code",
   "execution_count": 5,
   "metadata": {},
   "outputs": [
    {
     "name": "stdout",
     "output_type": "stream",
     "text": [
      ">>Start ChatDrug\n",
      "System: You are an expert in the field of molecular chemistry.\n"
     ]
    }
   ],
   "source": [
    "print(\">>Start ChatDrug\")\n",
    "# ChatGPT message\n",
    "messages = [{\"role\": \"system\", \"content\": \"You are an expert in the field of molecular chemistry.\"}]\n",
    "print(\"System: You are an expert in the field of molecular chemistry.\")\n",
    "\n",
    "# PDDS\n",
    "PDDS_prompt = construct_PDDS_prompt(task_specification_dict, test_drug, test_drug_type, task)\n",
    "messages.append({\"role\": \"user\", \"content\": PDDS_prompt})"
   ]
  },
  {
   "cell_type": "code",
   "execution_count": 6,
   "metadata": {},
   "outputs": [
    {
     "name": "stdout",
     "output_type": "stream",
     "text": [
      ">>Start Conversation 1\n",
      "User: Can you make molecule O=C(NC[C@H]1CCCO1)c1ccccc1N1CCCC1=O more soluble in water and more hydrogen bond donors? The output molecule should be similar to the input molecule. Give me five molecules in SMILES only and list them using bullet points. No explanation is needed.\n",
      "ChatGPT: Sure, here are five molecules in SMILES that are similar to the input molecule but have increased solubility in water and more hydrogen bond donors:\n",
      "\n",
      "- O=C(NC[C@H]1CCCO1)c1ccccc1N1CCOCC1=O\n",
      "- O=C(NC[C@H]1CCCO1)c1ccccc1N1CCNCC1=O\n",
      "- O=C(NC[C@H]1CCCO1)c1ccccc1N1CC(O)CC1=O\n",
      "- O=C(NC[C@H]1CCCO1)c1ccccc1N1CCC(O)C1=O\n",
      "- O=C(NC[C@H]1CCCO1)c1ccccc1N1CC(O)(C)C1=O\n",
      "Generated Result: O=C(NC[C@H]1CCCO1)c1ccccc1N1CCOCC1=O\n",
      "Evaluation result is: False\n",
      ">>Start Retrieval 1\n",
      "Retrieval Result: O=C(NC[C@@H]1CCCO1)C(=O)Nc1cnc(-c2ccccc2)s1\n",
      ">>Start Conversation 2\n",
      "User: Your provided sequence O=C(NC[C@H]1CCCO1)c1ccccc1N1CCOCC1=O is not correct. We find a sequence O=C(NC[C@@H]1CCCO1)C(=O)Nc1cnc(-c2ccccc2)s1 which is correct and similar to the molecule you provided. Can you give me a new molecule?\n",
      "ChatGPT: I apologize for the mistake. Here is a new molecule that is similar to the input molecule but has increased solubility in water and more hydrogen bond donors:\n",
      "\n",
      "- O=C(NC[C@H]1CCCO1)c1ccccc1N1CC(O)C(O)C1=O\n",
      "Generated Result: O=C(NC[C@H]1CCCO1)c1ccccc1N1CC(O)C(O)C1=O\n",
      "Evaluation result is: True\n",
      ">>Drug Generation Correct\n"
     ]
    }
   ],
   "source": [
    "for round_index in range(C+1):\n",
    "    generated_text = complete(messages, 'chatgpt')\n",
    "    messages.append({\"role\": \"assistant\", \"content\": generated_text})\n",
    "    \n",
    "    print(\">>Start Conversation \" + str(round_index+1))\n",
    "    print(\"User: \" + messages[2*round_index+1][\"content\"])\n",
    "    print(\"ChatGPT: \" + generated_text)\n",
    "\n",
    "    if round_index < 1:\n",
    "        closest_drug = None\n",
    "    generated_drug_list = parse(task, test_drug, generated_text, closest_drug)\n",
    "\n",
    "    # Check Parsing Results\n",
    "    if generated_drug_list == None:\n",
    "        print(\">>Invalid Drug Generation\")\n",
    "        break\n",
    "    elif len(generated_drug_list) == 0:\n",
    "        print(\">>Drug Generation Error\")\n",
    "        break\n",
    "    else:\n",
    "        generated_drug = generated_drug_list[0]\n",
    "        print(\"Generated Result: \"+str(generated_drug))\n",
    "    \n",
    "    # Check Evaluation Results\n",
    "    answer = evaluate(test_drug, generated_drug, task, constraint, threshold_dict)\n",
    "\n",
    "    if answer == -1:\n",
    "        print(\">>Invalid Drug Generation\")\n",
    "        break\n",
    "\n",
    "    print('Evaluation result is: '+str(answer))\n",
    "\n",
    "    if answer:\n",
    "        print(\">>Drug Generation Correct\")\n",
    "        break\n",
    "    else:\n",
    "        if round_index < C:\n",
    "            print('>>Start Retrieval ' + str(round_index+1))\n",
    "            try:\n",
    "                closest_drug = retrieve_and_feedback(task, retrieval_DB, test_drug, generated_drug, constraint, threshold_dict)\n",
    "            except:\n",
    "                error = sys.exc_info()\n",
    "                if error[0] == Exception:\n",
    "                    print('>>Cannot Find Retrieval Result')\n",
    "                    break\n",
    "                else:\n",
    "                    print('>>Invalid Drug Generation')\n",
    "                    break\n",
    "\n",
    "            print(\"Retrieval Result: \" + closest_drug)\n",
    "\n",
    "            prompt_ReDF = f'Your provided sequence {generated_drug} is not correct. We find a sequence {closest_drug} which is correct and similar to the {test_drug_type} you provided. Can you give me a new {test_drug_type}?'\n",
    "            messages.append({\"role\": \"user\", \"content\": prompt_ReDF})\n",
    "        else:\n",
    "            print(\">>Drug Generation Error\")"
   ]
  }
 ],
 "metadata": {
  "kernelspec": {
   "display_name": "ChatDrug-public",
   "language": "python",
   "name": "python3"
  },
  "language_info": {
   "codemirror_mode": {
    "name": "ipython",
    "version": 3
   },
   "file_extension": ".py",
   "mimetype": "text/x-python",
   "name": "python",
   "nbconvert_exporter": "python",
   "pygments_lexer": "ipython3",
   "version": "3.7.12"
  },
  "orig_nbformat": 4
 },
 "nbformat": 4,
 "nbformat_minor": 2
}
